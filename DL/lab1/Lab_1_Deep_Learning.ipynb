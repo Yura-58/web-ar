{
 "cells": [
  {
   "cell_type": "markdown",
   "id": "258b44a1",
   "metadata": {},
   "source": [
    "# Лабораторна робота №1 з глибинного навчання студента групи Ім-22 Овсюка Юрія"
   ]
  },
  {
   "cell_type": "code",
   "execution_count": 1,
   "id": "b5ef40c7",
   "metadata": {},
   "outputs": [],
   "source": [
    "import numpy as np\n",
    "from numpy.linalg import norm"
   ]
  },
  {
   "cell_type": "code",
   "execution_count": 2,
   "id": "9f7c17cc",
   "metadata": {},
   "outputs": [],
   "source": [
    "def distance_print(distance_mat, eq_num):\n",
    "    \n",
    "    val = distance_mat[~np.eye(distance_mat.shape[0],dtype=bool)].min()\n",
    "    bool_arr = distance_mat == val\n",
    "    idx = []\n",
    "    for i in range(bool_arr.shape[0]):\n",
    "        for j in range(bool_arr.shape[1]):\n",
    "            if i == j:\n",
    "                continue\n",
    "            else:\n",
    "                if bool_arr[i][j] == True:\n",
    "                    idx.append([i, j])\n",
    "    print(f\"Для формули {eq_num} відстані: \\n\")\n",
    "    print(distance_mat) \n",
    "    print('\\n' + \"Найменшим елементом є \" + str(val) + '\\n')\n",
    "    print('Йому відповідають шаблони: ', end=' ')\n",
    "    for val in idx:\n",
    "        print(str(val[0]+1) + \" та \" + str(val[1]+1), end='; ')\n",
    "    print('\\n')"
   ]
  },
  {
   "cell_type": "markdown",
   "id": "45b4dd01",
   "metadata": {},
   "source": [
    "# 2.1 Індивідуальні завдання першого блоку"
   ]
  },
  {
   "cell_type": "markdown",
   "id": "e1408659",
   "metadata": {},
   "source": [
    "## 3.1"
   ]
  },
  {
   "cell_type": "code",
   "execution_count": 3,
   "id": "17691be9",
   "metadata": {},
   "outputs": [],
   "source": [
    "def L_2(s, x):\n",
    "    return np.sqrt(np.sum((s-x)**2))\n",
    "\n",
    "def L_3(s, x, lambd):\n",
    "    return (np.sum((s-x)**(lambd)))**(1/lambd)\n",
    "\n",
    "def L_4(s, x):\n",
    "    return np.sum(np.abs(s-x))\n",
    "\n",
    "def L_5(s, x, eta):\n",
    "    return np.sqrt(eta @ ((s-x)**2).T)\n",
    "\n",
    "def L_6(s, x, lambd, eta):\n",
    "    return (eta @ ((s-x)**lambd).T)**(1/lambd)\n",
    "\n",
    "def L_7(s, x, eta):\n",
    "    return eta @ (np.abs(s-x)).T\n",
    "\n",
    "def L_8(s, x):\n",
    "    return np.sum(np.abs(s-x)/np.abs(s+x))\n",
    "\n",
    "def L_9(s, x):\n",
    "    n = x.shape[0]\n",
    "    summa = 0\n",
    "    for q in range(0, n-1):\n",
    "        for k in range(1, n):\n",
    "            if k>q:\n",
    "                summa += np.sign(s[q]-s[k]) * np.sign(x[q]-x[k])\n",
    "    return 1 - (2/(n*(n-1))) * summa\n",
    "\n",
    "def L_10(s, x):\n",
    "    return np.max(np.abs(s-x))"
   ]
  },
  {
   "cell_type": "markdown",
   "id": "f12c3ad8",
   "metadata": {},
   "source": [
    "## 3.2"
   ]
  },
  {
   "cell_type": "markdown",
   "id": "d1a36505",
   "metadata": {},
   "source": [
    "### Зчитати з файлу"
   ]
  },
  {
   "cell_type": "code",
   "execution_count": 13,
   "id": "8a35ee31",
   "metadata": {},
   "outputs": [],
   "source": [
    "name_of_matrix = \"first_block_X.txt\"\n",
    "name_of_weights = \"first_block_weights.txt\"\n",
    "\n",
    "X = np.loadtxt(name_of_matrix, delimiter=',')\n",
    "eta_of_weights = np.loadtxt(name_of_weights, delimiter=',')\n",
    "n = X.shape[0]\n",
    "m = X.shape[1]"
   ]
  },
  {
   "cell_type": "markdown",
   "id": "17670857",
   "metadata": {},
   "source": [
    "### Згенерувати випадковим чином"
   ]
  },
  {
   "cell_type": "code",
   "execution_count": 4,
   "id": "86486162",
   "metadata": {},
   "outputs": [],
   "source": [
    "n = 5\n",
    "m = 6\n",
    "X = np.random.sample((n,m))\n",
    "eta = np.random.sample(m)"
   ]
  },
  {
   "cell_type": "markdown",
   "id": "24276b13",
   "metadata": {},
   "source": [
    "### Ініціалізуємо матриці відстаней та виводимо зчитані дані"
   ]
  },
  {
   "cell_type": "code",
   "execution_count": 14,
   "id": "d02e70ad",
   "metadata": {},
   "outputs": [
    {
     "name": "stdout",
     "output_type": "stream",
     "text": [
      "Матриця шаблонів :\n",
      "\n",
      "\n",
      "[[0.82141972 0.04642155 0.64588296 0.59955833 0.54348868 0.41846437]\n",
      " [0.88574574 0.31988043 0.6388927  0.17943034 0.88372288 0.01598445]\n",
      " [0.3462443  0.7624472  0.31300019 0.96322643 0.79033617 0.12397609]\n",
      " [0.7063229  0.5163329  0.65039904 0.33653938 0.98784613 0.326713  ]\n",
      " [0.95537726 0.73712664 0.22150833 0.0243943  0.05667627 0.6166563 ]]\n",
      "\n",
      "\n",
      "Матриця вагових коефіцієнтів: \n",
      "\n",
      "\n",
      "[0.97881025 0.33173321 0.91515194 0.92442063 0.45940727 0.92583844]\n"
     ]
    }
   ],
   "source": [
    "lamd = 4\n",
    "L_2_distances = np.zeros((n,n))\n",
    "L_3_distances = np.zeros((n,n))\n",
    "L_4_distances = np.zeros((n,n))\n",
    "L_5_distances = np.zeros((n,n))\n",
    "L_6_distances = np.zeros((n,n))\n",
    "L_7_distances = np.zeros((n,n))\n",
    "L_8_distances = np.zeros((n,n))\n",
    "L_9_distances = np.zeros((n,n))\n",
    "L_10_distances = np.zeros((n,n))\n",
    "\n",
    "print(\"Матриця шаблонів :\")\n",
    "print(\"\\n\")\n",
    "print(X)\n",
    "print(\"\\n\")\n",
    "print(\"Матриця вагових коефіцієнтів: \")\n",
    "print(\"\\n\")\n",
    "print(eta)"
   ]
  },
  {
   "cell_type": "code",
   "execution_count": null,
   "id": "3061574b",
   "metadata": {},
   "outputs": [],
   "source": [
    "for i in range(n):\n",
    "    for j in range(n):\n",
    "        L_2_distances[i][j] = L_2(X[i], X[j]) \n",
    "        L_3_distances[i][j] = L_3(X[i], X[j], lambd=lamd)\n",
    "        L_4_distances[i][j] = L_4(X[i], X[j])\n",
    "        L_5_distances[i][j] = L_5(X[i], X[j], eta=eta)\n",
    "        L_6_distances[i][j] = L_6(X[i], X[j], lambd=lamd, eta=eta)\n",
    "        L_7_distances[i][j] = L_7(X[i], X[j], eta=eta)\n",
    "        L_8_distances[i][j] = L_8(X[i], X[j])\n",
    "        L_9_distances[i][j] = L_9(X[i], X[j])\n",
    "        L_10_distances[i][j] = L_10(X[i], X[j])"
   ]
  },
  {
   "cell_type": "code",
   "execution_count": null,
   "id": "b1c58b49",
   "metadata": {
    "scrolled": true
   },
   "outputs": [],
   "source": [
    "distance_print(L_2_distances, 2)\n",
    "distance_print(L_3_distances, 3)\n",
    "distance_print(L_4_distances, 4)\n",
    "distance_print(L_5_distances, 5)\n",
    "distance_print(L_6_distances, 6)\n",
    "distance_print(L_7_distances, 7)\n",
    "distance_print(L_8_distances, 8)\n",
    "distance_print(L_9_distances, 9)\n",
    "distance_print(L_10_distances, 10)"
   ]
  },
  {
   "cell_type": "markdown",
   "id": "788201ce",
   "metadata": {},
   "source": [
    "## 3.3"
   ]
  },
  {
   "cell_type": "code",
   "execution_count": null,
   "id": "4fe69515",
   "metadata": {},
   "outputs": [],
   "source": [
    "patt_weighted_1 = np.array([240, 310, 58, 170, 90])\n",
    "patt_weighted_2 = np.array([0.35, 270, 0.47, 160, 0.89])\n",
    "\n",
    "eta_weighted = np.array([120, 1.2, 150, 1.4, 100])\n",
    "\n",
    "ans_simp_2 = L_2(patt_weighted_1, patt_weighted_2)\n",
    "ans_simp_3 = L_3(patt_weighted_1, patt_weighted_2, 4)\n",
    "ans_simp_4 = L_4(patt_weighted_1, patt_weighted_2)\n",
    "\n",
    "ans_weighted_5 = L_5(patt_weighted_1, patt_weighted_2, eta=eta_weighted)\n",
    "ans_weighted_6 = L_6(patt_weighted_1, patt_weighted_2, lambd=4, eta=eta_weighted)\n",
    "ans_weighted_7 = L_7(patt_weighted_1, patt_weighted_2, eta=eta_weighted)\n",
    "\n",
    "print(\"Проста евклідова відстань дорівнює \" + str(ans_simp_2))\n",
    "print(\"Зважена евклідова відстань дорівнює \" + str(ans_weighted_5))\n",
    "print(\"Проста відстань мінковського дорівнює \" + str(ans_simp_3))\n",
    "print(\"Зважена відстань мінковсього дорівнює \" + str(ans_weighted_6))\n",
    "print(\"Проста city block відстань дорівнює \" + str(ans_simp_4))\n",
    "print(\"Зважена city block відстань дорівнює \" + str(ans_weighted_7))"
   ]
  },
  {
   "cell_type": "markdown",
   "id": "315fd277",
   "metadata": {},
   "source": [
    "## 3.4"
   ]
  },
  {
   "cell_type": "code",
   "execution_count": null,
   "id": "4363beb7",
   "metadata": {},
   "outputs": [],
   "source": [
    "patt_kend_1 = np.array([0.69565198, 0.31632395, 0.63817466, 0.68009122, 0.60589068, 0.03026583])\n",
    "patt_kend_2 = np.array([0.87359942, 0.46275467, 0.65897428, 0.6597006,  0.50686113, 0.18992137])\n",
    "\n",
    "ans_kend_1_2 = L_9(patt_kend_1, patt_kend_2)\n",
    "print(\"Відстань по Кендалу дорівнює \" + str(ans_kend_1_2) + \". Тут воно мінімальне, оскільки розташування елементів однотипне\")"
   ]
  },
  {
   "cell_type": "code",
   "execution_count": null,
   "id": "860051cd",
   "metadata": {},
   "outputs": [],
   "source": [
    "patt_kend_3 = np.array([0.42142548, 0.30893455, 0.74811409, 0.88521356, 0.86045849, 0.36840119])\n",
    "patt_kend_4 = np.array([0.83954871, 0.99893566, 0.79575212, 0.2373569,  0.48252239, 0.94160838])\n",
    "\n",
    "ans_kend_3_4 = L_9(patt_kend_3, patt_kend_4)\n",
    "print(\"Відстань по Кендалу дорівнює \" + str(ans_kend_3_4) + \". Тут воно максимальне, оскільки розташування елементів різнобічне\")"
   ]
  },
  {
   "cell_type": "markdown",
   "id": "1b55c172",
   "metadata": {},
   "source": [
    "## 3.5"
   ]
  },
  {
   "cell_type": "code",
   "execution_count": null,
   "id": "ad36b03e",
   "metadata": {},
   "outputs": [],
   "source": [
    "patt_chebish_1 = np.array([50.28, 19.16, 22.05, 37.36, 15.11])\n",
    "patt_chebish_2 = np.array([49.28, 19.13, 22.34, 37.17, 15.11])\n",
    "\n",
    "ans_chebishev_1_2 = L_10(patt_chebish_1, patt_chebish_2)\n",
    "print(\"Відстань по Чебишеву дорівнює \" + str(ans_chebishev_1_2) + \", що має відповідати моєму номеру в журналі\""
   ]
  },
  {
   "cell_type": "markdown",
   "id": "8da5a87d",
   "metadata": {},
   "source": [
    "## 3.6"
   ]
  },
  {
   "cell_type": "code",
   "execution_count": null,
   "id": "2a51d25e",
   "metadata": {},
   "outputs": [],
   "source": [
    "patt_cheb_kend_1 = np.array([0.86, 0.77, 0.18, 0.48, 0.7633333333333334, 0.92], dtype='float64')\n",
    "patt_cheb_kend_2 = np.array([0.65, 0.12, 0.65, 0.68, 0.03, 0.94], dtype='float64')\n",
    "\n",
    "ans_kend = L_9(patt_cheb_kend_1, patt_cheb_kend_2)\n",
    "ans_cheb = L_10(patt_cheb_kend_1, patt_cheb_kend_2)\n",
    "print(\"Відстань по Кендалу дорівнює \" + str(ans_kend))\n",
    "print(\"Відстань по Чебишеву дорівнює \" + str(ans_cheb))"
   ]
  },
  {
   "cell_type": "markdown",
   "id": "c92f2c14",
   "metadata": {},
   "source": [
    "# 2.2 Індивідуальні завдання другого блоку"
   ]
  },
  {
   "cell_type": "markdown",
   "id": "aeb5470e",
   "metadata": {},
   "source": [
    "## 3.1"
   ]
  },
  {
   "cell_type": "code",
   "execution_count": 21,
   "id": "f6f7fdb4",
   "metadata": {},
   "outputs": [],
   "source": [
    "def _a(patt_i, patt_j):\n",
    "    return patt_j @ patt_i.T\n",
    "\n",
    "def _b(patt_i, patt_j):\n",
    "    return (1-patt_j) @ (1-patt_i).T\n",
    "\n",
    "def _g(patt_i, patt_j):\n",
    "    return patt_i @ (1-patt_j).T\n",
    "\n",
    "def _h(patt_i, patt_j):\n",
    "    return (1-patt_i) @ patt_j.T\n",
    "\n",
    "def S_1(X_i, X_j):\n",
    "    a = _a(X_i, X_j)\n",
    "    b = _b(X_i, X_j)\n",
    "    g = _g(X_i, X_j)\n",
    "    h = _h(X_i, X_j)\n",
    "    n = a + b + g + h\n",
    "\n",
    "    return a/n\n",
    "\n",
    "def S_2(X_i, X_j):\n",
    "    a = _a(X_i, X_j)\n",
    "    b = _b(X_i, X_j)\n",
    "    g = _g(X_i, X_j)\n",
    "    h = _h(X_i, X_j)\n",
    "    \n",
    "    return a/(a+g+h)\n",
    "\n",
    "def S_3(X_i, X_j):\n",
    "    a = _a(X_i, X_j)\n",
    "    g = _g(X_i, X_j)\n",
    "    h = _h(X_i, X_j)\n",
    "    \n",
    "    return a/(2*a+g+h)\n",
    "\n",
    "def S_4(X_i, X_j):\n",
    "    a = _a(X_i, X_j)\n",
    "    g = _g(X_i, X_j)\n",
    "    h = _h(X_i, X_j)\n",
    "    \n",
    "    return a/(a+2*(g+h))\n",
    "\n",
    "def S_5(X_i, X_j):\n",
    "    a = _a(X_i, X_j)\n",
    "    b = _b(X_i, X_j)\n",
    "    g = _g(X_i, X_j)\n",
    "    h = _h(X_i, X_j)\n",
    "    n = a + b + g + h\n",
    "    \n",
    "    return (a+b)/n\n",
    "\n",
    "def S_6(X_i, X_j):\n",
    "    a = _a(X_i, X_j)\n",
    "    g = _g(X_i, X_j)\n",
    "    h = _h(X_i, X_j)\n",
    "    \n",
    "    return a/(g+h)\n",
    "\n",
    "def S_7(X_i, X_j):\n",
    "    a = _a(X_i, X_j)\n",
    "    b = _b(X_i, X_j)\n",
    "    g = _g(X_i, X_j)\n",
    "    h = _h(X_i, X_j)\n",
    "    \n",
    "    return (a*b-g*h)/(a*b+g*h)\n",
    "\n",
    "def mean_euclid(X_i, X_j): # завдання 3.3 індивідуального блоку. Протестуємо серендню Евклідову відстань  \n",
    "    a = _a(X_i, X_j)\n",
    "    b = _b(X_i, X_j)\n",
    "    g = _g(X_i, X_j)\n",
    "    h = _h(X_i, X_j)\n",
    "    n = a + b + g + h\n",
    "    \n",
    "    return np.sqrt((g+h)/n)\n",
    "\n",
    "def hamming(X_i, X_j): # завдання 3.5 індивідуального блоку. Протестуємо відстань Хеммінга\n",
    "    g = _g(X_i, X_j)\n",
    "    h = _h(X_i, X_j)\n",
    "    \n",
    "    return g+h\n"
   ]
  },
  {
   "cell_type": "markdown",
   "id": "22d2e38f",
   "metadata": {},
   "source": [
    "## 3.2"
   ]
  },
  {
   "cell_type": "markdown",
   "id": "3130c5a1",
   "metadata": {},
   "source": [
    "### Зчитування з файлів"
   ]
  },
  {
   "cell_type": "code",
   "execution_count": 36,
   "id": "3fba9319",
   "metadata": {},
   "outputs": [],
   "source": [
    "name_of_matrix_2 = \"second_block_X_2.txt\"\n",
    "\n",
    "X_2 = np.loadtxt(name_of_matrix_2, delimiter=',', dtype=None)\n",
    "\n",
    "n = X_2.shape[0]\n",
    "m = X_2.shape[1]"
   ]
  },
  {
   "cell_type": "markdown",
   "id": "d562e11a",
   "metadata": {},
   "source": [
    "### Генерація випадковим чином"
   ]
  },
  {
   "cell_type": "code",
   "execution_count": 33,
   "id": "b37fdd4c",
   "metadata": {},
   "outputs": [],
   "source": [
    "n = 5\n",
    "m = 4\n",
    "X_2 = np.random.binomial(1, 0.5, size=(n,m))"
   ]
  },
  {
   "cell_type": "markdown",
   "id": "c1d0a231",
   "metadata": {},
   "source": [
    "### Ініціалізуємо матрицю відстаней та виводимо дані"
   ]
  },
  {
   "cell_type": "code",
   "execution_count": 37,
   "id": "84526852",
   "metadata": {},
   "outputs": [
    {
     "name": "stdout",
     "output_type": "stream",
     "text": [
      "Матриця шаблонів: \n",
      "\n",
      "\n",
      "[[1. 0. 1. 1.]\n",
      " [0. 1. 1. 1.]\n",
      " [0. 1. 0. 1.]\n",
      " [1. 0. 0. 1.]\n",
      " [0. 1. 0. 0.]]\n"
     ]
    }
   ],
   "source": [
    "S_1_distances = np.zeros((n,n))\n",
    "S_2_distances = np.zeros((n,n))\n",
    "S_3_distances = np.zeros((n,n))\n",
    "S_4_distances = np.zeros((n,n))\n",
    "S_5_distances = np.zeros((n,n))\n",
    "S_6_distances = np.zeros((n,n))\n",
    "S_7_distances = np.zeros((n,n))\n",
    "mean_euclid_distances = np.zeros((n,n)) # завдання 3.3\n",
    "hamming_distances = np.zeros((n,n)) # завдання 3.5\n",
    "\n",
    "print(\"Матриця шаблонів: \")\n",
    "print(\"\\n\")\n",
    "print(X_2)"
   ]
  },
  {
   "cell_type": "code",
   "execution_count": 38,
   "id": "f3f3cb3e",
   "metadata": {},
   "outputs": [
    {
     "name": "stderr",
     "output_type": "stream",
     "text": [
      "C:\\Users\\Andrii\\AppData\\Local\\Temp\\ipykernel_5292\\787013973.py:58: RuntimeWarning: divide by zero encountered in double_scalars\n",
      "  return a/(g+h)\n"
     ]
    }
   ],
   "source": [
    "for i in range(n):\n",
    "    for j in range(n):\n",
    "        S_1_distances[i][j] = S_1(X_2[i], X_2[j]) \n",
    "        S_2_distances[i][j] = S_2(X_2[i], X_2[j])\n",
    "        S_3_distances[i][j] = S_3(X_2[i], X_2[j])\n",
    "        S_4_distances[i][j] = S_4(X_2[i], X_2[j])\n",
    "        S_5_distances[i][j] = S_5(X_2[i], X_2[j])\n",
    "        S_6_distances[i][j] = S_6(X_2[i], X_2[j])\n",
    "        S_7_distances[i][j] = S_7(X_2[i], X_2[j])"
   ]
  },
  {
   "cell_type": "code",
   "execution_count": 39,
   "id": "bdc958fe",
   "metadata": {
    "scrolled": true
   },
   "outputs": [
    {
     "name": "stdout",
     "output_type": "stream",
     "text": [
      "Для формули 1 відстані: \n",
      "\n",
      "[[0.75 0.5  0.25 0.5  0.  ]\n",
      " [0.5  0.75 0.5  0.25 0.25]\n",
      " [0.25 0.5  0.5  0.25 0.25]\n",
      " [0.5  0.25 0.25 0.5  0.  ]\n",
      " [0.   0.25 0.25 0.   0.25]]\n",
      "\n",
      "Найменшим елементом є 0.0\n",
      "\n",
      "Йому відповідають шаблони:  1 та 5; 4 та 5; 5 та 1; 5 та 4; \n",
      "\n",
      "Для формули 2 відстані: \n",
      "\n",
      "[[1.         0.5        0.25       0.66666667 0.        ]\n",
      " [0.5        1.         0.66666667 0.25       0.33333333]\n",
      " [0.25       0.66666667 1.         0.33333333 0.5       ]\n",
      " [0.66666667 0.25       0.33333333 1.         0.        ]\n",
      " [0.         0.33333333 0.5        0.         1.        ]]\n",
      "\n",
      "Найменшим елементом є 0.0\n",
      "\n",
      "Йому відповідають шаблони:  1 та 5; 4 та 5; 5 та 1; 5 та 4; \n",
      "\n",
      "Для формули 3 відстані: \n",
      "\n",
      "[[0.5        0.33333333 0.2        0.4        0.        ]\n",
      " [0.33333333 0.5        0.4        0.2        0.25      ]\n",
      " [0.2        0.4        0.5        0.25       0.33333333]\n",
      " [0.4        0.2        0.25       0.5        0.        ]\n",
      " [0.         0.25       0.33333333 0.         0.5       ]]\n",
      "\n",
      "Найменшим елементом є 0.0\n",
      "\n",
      "Йому відповідають шаблони:  1 та 5; 4 та 5; 5 та 1; 5 та 4; \n",
      "\n",
      "Для формули 4 відстані: \n",
      "\n",
      "[[1.         0.33333333 0.14285714 0.5        0.        ]\n",
      " [0.33333333 1.         0.5        0.14285714 0.2       ]\n",
      " [0.14285714 0.5        1.         0.2        0.33333333]\n",
      " [0.5        0.14285714 0.2        1.         0.        ]\n",
      " [0.         0.2        0.33333333 0.         1.        ]]\n",
      "\n",
      "Найменшим елементом є 0.0\n",
      "\n",
      "Йому відповідають шаблони:  1 та 5; 4 та 5; 5 та 1; 5 та 4; \n",
      "\n",
      "Для формули 5 відстані: \n",
      "\n",
      "[[1.   0.5  0.25 0.75 0.  ]\n",
      " [0.5  1.   0.75 0.25 0.5 ]\n",
      " [0.25 0.75 1.   0.5  0.75]\n",
      " [0.75 0.25 0.5  1.   0.25]\n",
      " [0.   0.5  0.75 0.25 1.  ]]\n",
      "\n",
      "Найменшим елементом є 0.0\n",
      "\n",
      "Йому відповідають шаблони:  1 та 5; 5 та 1; \n",
      "\n",
      "Для формули 6 відстані: \n",
      "\n",
      "[[       inf 1.         0.33333333 2.         0.        ]\n",
      " [1.                inf 2.         0.33333333 0.5       ]\n",
      " [0.33333333 2.                inf 0.5        1.        ]\n",
      " [2.         0.33333333 0.5               inf 0.        ]\n",
      " [0.         0.5        1.         0.                inf]]\n",
      "\n",
      "Найменшим елементом є 0.0\n",
      "\n",
      "Йому відповідають шаблони:  1 та 5; 4 та 5; 5 та 1; 5 та 4; \n",
      "\n",
      "Для формули 7 відстані: \n",
      "\n",
      "[[ 1. -1. -1.  1. -1.]\n",
      " [-1.  1.  1. -1.  1.]\n",
      " [-1.  1.  1.  0.  1.]\n",
      " [ 1. -1.  0.  1. -1.]\n",
      " [-1.  1.  1. -1.  1.]]\n",
      "\n",
      "Найменшим елементом є -1.0\n",
      "\n",
      "Йому відповідають шаблони:  1 та 2; 1 та 3; 1 та 5; 2 та 1; 2 та 4; 3 та 1; 4 та 2; 4 та 5; 5 та 1; 5 та 4; \n",
      "\n"
     ]
    }
   ],
   "source": [
    "distance_print(S_1_distances, 1)\n",
    "distance_print(S_2_distances, 2)\n",
    "distance_print(S_3_distances, 3)\n",
    "distance_print(S_4_distances, 4)\n",
    "distance_print(S_5_distances, 5)\n",
    "distance_print(S_6_distances, 6)\n",
    "distance_print(S_7_distances, 7)"
   ]
  },
  {
   "cell_type": "markdown",
   "id": "5718f473",
   "metadata": {},
   "source": [
    "## 3.3 "
   ]
  },
  {
   "cell_type": "code",
   "execution_count": null,
   "id": "3249ac3f",
   "metadata": {},
   "outputs": [],
   "source": [
    "mean_euclid_distances = np.zeros((n,n)) # завдання 3.3\n",
    "for i in range(n):\n",
    "    for j in range(n):\n",
    "        mean_euclid_distances[i][j] = mean_euclid(X_2[i], X_2[j]) \n",
    "\n",
    "distance_print(mean_euclid_distances, \"середньої евклідової відстані\") # завдання 3.3"
   ]
  },
  {
   "cell_type": "markdown",
   "id": "35a75562",
   "metadata": {},
   "source": [
    "## 3.4"
   ]
  },
  {
   "cell_type": "code",
   "execution_count": null,
   "id": "43b8b5dc",
   "metadata": {},
   "outputs": [],
   "source": [
    "patt_01 = np.array([1, 1, 1, 1, 1, 1])\n",
    "patt_02 = np.array([1, 1, 1, 1, 1, 1])\n",
    "\n",
    "ans_00 = S_2(patt_01, patt_02)\n",
    "\n",
    "print(\"Для ф-ції Жокара та Нідмена отримуємо макс. значення, а саме \" + str(ans_00) + \", оскільки усі значення співпадають\")"
   ]
  },
  {
   "cell_type": "code",
   "execution_count": null,
   "id": "4eb7b60f",
   "metadata": {},
   "outputs": [],
   "source": [
    "patt_03 = np.array([1, 0, 1, 0, 1, 0])\n",
    "patt_04 = np.array([0, 1, 0, 1, 0, 1])\n",
    "\n",
    "ans_034 = S_2(patt_03, patt_04)\n",
    "\n",
    "print(\"Для ф-ції Жокара та Нідмена отримуємо мін. значення, а саме \" + str(ans_034) + \", оскільки усі значення різні\")"
   ]
  },
  {
   "cell_type": "markdown",
   "id": "ce5d19c5",
   "metadata": {},
   "source": [
    "## 3.5"
   ]
  },
  {
   "cell_type": "code",
   "execution_count": null,
   "id": "c2e8dd9f",
   "metadata": {},
   "outputs": [],
   "source": [
    "for i in range(n):\n",
    "    for j in range(n):\n",
    "        hamming_distances[i][j] = hamming(X_2[i], X_2[j]) # завдання 3.5\n",
    "        \n",
    "distance_print(hamming_distances, \"хемінга\")"
   ]
  },
  {
   "cell_type": "code",
   "execution_count": null,
   "id": "8368a237",
   "metadata": {},
   "outputs": [],
   "source": [
    "pat_1 = np.array([1, 0, 0, 0, 0])\n",
    "pat_2 = np.array([0, 0, 0, 0, 0])\n",
    "\n",
    "ans_1 = hamming(pat_1, pat_2)\n",
    "print(\"Відстань Хемінга дає значення \" + str(ans_1))"
   ]
  },
  {
   "cell_type": "markdown",
   "id": "6258b9c9",
   "metadata": {},
   "source": [
    "## 3.6"
   ]
  },
  {
   "cell_type": "code",
   "execution_count": null,
   "id": "32245c28",
   "metadata": {},
   "outputs": [],
   "source": [
    "pat_3 = np.array([0, 0, 0, 1])\n",
    "pat_4 = np.array([0, 0, 1, 1])\n",
    "\n",
    "ans_2 = S_6(pat_3, pat_4)\n",
    "print(\"Використовуючи ф-цію збіжності Кульжинського, отримуємо для заданих шаблонів значення \" + str(ans_2) + \", що дорівнює значенню із завдання 3.5\")"
   ]
  },
  {
   "cell_type": "markdown",
   "id": "fbb9f792",
   "metadata": {},
   "source": [
    "# 2.3 Індивідуальні завдання третього блоку"
   ]
  },
  {
   "cell_type": "markdown",
   "id": "0829a329",
   "metadata": {},
   "source": [
    "## 3.1"
   ]
  },
  {
   "cell_type": "code",
   "execution_count": 43,
   "id": "9ddc9560",
   "metadata": {},
   "outputs": [],
   "source": [
    "def L_cosine(S_i, X_j):\n",
    "    return np.arccos(S_i @ X_j.T/(np.linalg.norm(S_i) * np.linalg.norm(X_j))) * 180 / np.pi \n",
    "\n",
    "def L_scal_prod(S_i, X_j):\n",
    "    return S_i @ X_j.T"
   ]
  },
  {
   "cell_type": "markdown",
   "id": "dac5399a",
   "metadata": {},
   "source": [
    "## 3.2, 3.3 та 3.4"
   ]
  },
  {
   "cell_type": "markdown",
   "id": "eab2fb22",
   "metadata": {},
   "source": [
    "### Зчитування з файлів"
   ]
  },
  {
   "cell_type": "code",
   "execution_count": 48,
   "id": "8145316a",
   "metadata": {},
   "outputs": [],
   "source": [
    "name_of_matrix_3 = \"third_block_X_3.txt\"\n",
    "name_of_radius = \"third_block_radius.txt\"\n",
    "name_of_angles = \"third_block_angles.txt\"\n",
    "\n",
    "X_3 = np.loadtxt(name_of_matrix_3, delimiter=',')\n",
    "phi = np.loadtxt(name_of_radius, delimiter=',')\n",
    "R = np.loadtxt(name_of_angles, delimiter=',')\n",
    "\n",
    "n = X_3.shape[0]\n",
    "m = X_3.shape[1]"
   ]
  },
  {
   "cell_type": "markdown",
   "id": "df4a94db",
   "metadata": {},
   "source": [
    "### Генерація випадковим чином"
   ]
  },
  {
   "cell_type": "code",
   "execution_count": 40,
   "id": "62d334d5",
   "metadata": {},
   "outputs": [],
   "source": [
    "n = 5\n",
    "m = 6\n",
    "phi = np.random.uniform(low=40, high=120, size=(n,1))\n",
    "R = np.random.randint(low=8, high=50, size=(n,1))\n",
    "X_3 = np.random.sample((n,m))"
   ]
  },
  {
   "cell_type": "markdown",
   "id": "12381aa2",
   "metadata": {},
   "source": [
    "### Ініціалізуємо матриці відстаней та виводимо дані"
   ]
  },
  {
   "cell_type": "code",
   "execution_count": 49,
   "id": "ae065633",
   "metadata": {},
   "outputs": [
    {
     "name": "stdout",
     "output_type": "stream",
     "text": [
      "Матриця шаблонів: \n",
      "\n",
      "[[0.16929655 0.0414269  0.76195633 0.30749919 0.72768514 0.09767102]\n",
      " [0.75315215 0.47395202 0.19392633 0.75596718 0.77059016 0.06592258]\n",
      " [0.67492733 0.28363842 0.67880563 0.21884121 0.22739774 0.7784144 ]\n",
      " [0.98894383 0.98567329 0.98111237 0.73114229 0.03517814 0.07551569]\n",
      " [0.96617323 0.43572117 0.57058564 0.49837474 0.36005359 0.59880235]]\n",
      "\n",
      "\n",
      "Матриця радіусів: \n",
      "\n",
      "[ 62.84020852 100.99877451  49.52935589  56.5693716   58.42845148]\n",
      "\n",
      "\n",
      "Матриця кутів: \n",
      "\n",
      "[43. 17. 29. 45. 37.]\n"
     ]
    }
   ],
   "source": [
    "L_cosine_distances = np.zeros((n,n))\n",
    "L_scal_prod_distances = np.zeros((n,n))\n",
    "membership_cosine = np.chararray((n,n))\n",
    "membership_scal_prod = np.chararray((n,n))\n",
    "membership_euclidian = np.chararray((n,n))\n",
    "\n",
    "print(\"Матриця шаблонів: \\n\")\n",
    "print(X_3)\n",
    "print('\\n')\n",
    "print(\"Матриця радіусів: \\n\")\n",
    "print(R)\n",
    "print('\\n')\n",
    "print(\"Матриця кутів: \\n\")\n",
    "print(phi)"
   ]
  },
  {
   "cell_type": "code",
   "execution_count": 50,
   "id": "fbcd87bf",
   "metadata": {},
   "outputs": [
    {
     "name": "stderr",
     "output_type": "stream",
     "text": [
      "C:\\Users\\Andrii\\AppData\\Local\\Temp\\ipykernel_5292\\1400432034.py:2: RuntimeWarning: invalid value encountered in arccos\n",
      "  return np.arccos(S_i @ X_j.T/(np.linalg.norm(S_i) * np.linalg.norm(X_j))) * 180 / np.pi\n"
     ]
    }
   ],
   "source": [
    "for i in range(n):\n",
    "    for j in range(n):\n",
    "        L_cosine_distances[i][j] = L_cosine(X_3[i], X_3[j]) \n",
    "        L_scal_prod_distances[i][j] = L_scal_prod(X_3[i], X_3[j])\n",
    "        membership_cosine[i][j] = \"Y\" if L_cosine(X_3[i], X_3[j]) < phi[i] else \"N\"\n",
    "        membership_scal_prod[i][j] = \"Y\" if L_scal_prod(X_3[i], X_3[j]) < R[i] else \"N\"\n",
    "        membership_euclidian[i][j] = \"Y\" if L_2(X_3[i], X_3[j]) < R[i] else \"N\""
   ]
  },
  {
   "cell_type": "code",
   "execution_count": 51,
   "id": "20427d1a",
   "metadata": {},
   "outputs": [
    {
     "name": "stdout",
     "output_type": "stream",
     "text": [
      "Для формули 1 відстані: \n",
      "\n",
      "[[           nan 4.60593068e+01 4.91509130e+01 5.41705541e+01\n",
      "  4.86251339e+01]\n",
      " [4.60593068e+01 8.53773646e-07 5.07821817e+01 4.08673765e+01\n",
      "  3.37223689e+01]\n",
      " [4.91509130e+01 5.07821817e+01 8.53773646e-07 4.06429587e+01\n",
      "  1.93323869e+01]\n",
      " [5.41705541e+01 4.08673765e+01 4.06429587e+01            nan\n",
      "  3.05061703e+01]\n",
      " [4.86251339e+01 3.37223689e+01 1.93323869e+01 3.05061703e+01\n",
      "  0.00000000e+00]]\n",
      "\n",
      "Найменшим елементом є 19.33238690850327\n",
      "\n",
      "Йому відповідають шаблони:  3 та 5; 5 та 3; \n",
      "\n",
      "Для формули 3 відстані: \n",
      "\n",
      "[[1.244576   1.09454885 0.95202936 1.21362291 1.09012282]\n",
      " [1.09454885 1.99911746 1.16637458 1.98705623 1.73852125]\n",
      " [0.95202936 1.16637458 1.70228492 1.83981063 1.8200574 ]\n",
      " [1.21362291 1.98705623 1.83981063 3.45365239 2.36704624]\n",
      " [1.09012282 1.73852125 1.8200574  2.36704624 2.18549184]]\n",
      "\n",
      "Найменшим елементом є 0.9520293550612389\n",
      "\n",
      "Йому відповідають шаблони:  1 та 3; 3 та 1; \n",
      "\n"
     ]
    }
   ],
   "source": [
    "distance_print(L_cosine_distances, 1)\n",
    "distance_print(L_scal_prod_distances, 3)"
   ]
  },
  {
   "cell_type": "code",
   "execution_count": 52,
   "id": "4238ccbd",
   "metadata": {},
   "outputs": [
    {
     "name": "stdout",
     "output_type": "stream",
     "text": [
      "Приналежність за кутовою відстанню\n",
      "\n",
      "[[b'N' b'N' b'N' b'N' b'N']\n",
      " [b'N' b'Y' b'N' b'N' b'N']\n",
      " [b'N' b'N' b'Y' b'N' b'Y']\n",
      " [b'N' b'Y' b'Y' b'N' b'Y']\n",
      " [b'N' b'Y' b'Y' b'Y' b'Y']]\n",
      "\n",
      "Приналежність за скалярним добутком\n",
      "\n",
      "[[b'Y' b'Y' b'Y' b'Y' b'Y']\n",
      " [b'Y' b'Y' b'Y' b'Y' b'Y']\n",
      " [b'Y' b'Y' b'Y' b'Y' b'Y']\n",
      " [b'Y' b'Y' b'Y' b'Y' b'Y']\n",
      " [b'Y' b'Y' b'Y' b'Y' b'Y']]\n",
      "\n",
      "Приналежність за евклідовою відстанню\n",
      "\n",
      "[[b'Y' b'Y' b'Y' b'Y' b'Y']\n",
      " [b'Y' b'Y' b'Y' b'Y' b'Y']\n",
      " [b'Y' b'Y' b'Y' b'Y' b'Y']\n",
      " [b'Y' b'Y' b'Y' b'Y' b'Y']\n",
      " [b'Y' b'Y' b'Y' b'Y' b'Y']]\n"
     ]
    }
   ],
   "source": [
    "print(\"Приналежність за кутовою відстанню\\n\")\n",
    "print(membership_cosine)\n",
    "print('\\nПриналежність за скалярним добутком\\n')\n",
    "print(membership_scal_prod)\n",
    "print('\\nПриналежність за евклідовою відстанню\\n')\n",
    "print(membership_euclidian)"
   ]
  },
  {
   "cell_type": "code",
   "execution_count": null,
   "id": "dfeff438",
   "metadata": {},
   "outputs": [],
   "source": []
  }
 ],
 "metadata": {
  "kernelspec": {
   "display_name": "Python 3 (ipykernel)",
   "language": "python",
   "name": "python3"
  },
  "language_info": {
   "codemirror_mode": {
    "name": "ipython",
    "version": 3
   },
   "file_extension": ".py",
   "mimetype": "text/x-python",
   "name": "python",
   "nbconvert_exporter": "python",
   "pygments_lexer": "ipython3",
   "version": "3.8.16"
  }
 },
 "nbformat": 4,
 "nbformat_minor": 5
}
